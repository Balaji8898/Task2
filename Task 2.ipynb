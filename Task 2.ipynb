{
 "cells": [
  {
   "cell_type": "code",
   "execution_count": 1,
   "metadata": {},
   "outputs": [],
   "source": [
    "import selenium\n",
    "from selenium import webdriver\n",
    "from selenium.webdriver.support.ui import Select\n",
    "import time\n",
    "import pandas as pd"
   ]
  },
  {
   "cell_type": "code",
   "execution_count": 4,
   "metadata": {},
   "outputs": [],
   "source": [
    "driverPath = r\"C:\\Users\\HP\\OneDrive\\Desktop\\chromedriver.exe\"\n",
    "driver = webdriver.Chrome(executable_path=driverPath)\n",
    "driver.get(\"https://www.cricbuzz.com/cricket-team\")\n",
    "for i in range(1,38):\n",
    "    with open(r\"D:\\Task2\\\\\"+str(i)+\".png\",'wb') as file:\n",
    "        img = driver.find_element_by_xpath(\"//h1[contains(text(),'Cricket Teams')]//following::img[\"+str(i)+\"]\")\n",
    "        file.write(img.screenshot_as_png)\n",
    "driver.close()"
   ]
  },
  {
   "cell_type": "code",
   "execution_count": null,
   "metadata": {},
   "outputs": [],
   "source": []
  }
 ],
 "metadata": {
  "kernelspec": {
   "display_name": "Python 3",
   "language": "python",
   "name": "python3"
  },
  "language_info": {
   "codemirror_mode": {
    "name": "ipython",
    "version": 3
   },
   "file_extension": ".py",
   "mimetype": "text/x-python",
   "name": "python",
   "nbconvert_exporter": "python",
   "pygments_lexer": "ipython3",
   "version": "3.8.3"
  }
 },
 "nbformat": 4,
 "nbformat_minor": 4
}
